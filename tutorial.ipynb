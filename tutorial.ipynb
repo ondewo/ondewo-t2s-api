{
 "cells": [
  {
   "cell_type": "markdown",
   "metadata": {},
   "source": [
    "### Run the following cell only once after kernel started"
   ]
  },
  {
   "cell_type": "code",
   "execution_count": 1,
   "metadata": {},
   "outputs": [],
   "source": [
    "import os\n",
    "os.chdir('../')"
   ]
  },
  {
   "cell_type": "markdown",
   "metadata": {},
   "source": [
    "### Make sure you are in \"ondewo-t2s-client-python\" folder"
   ]
  },
  {
   "cell_type": "code",
   "execution_count": 2,
   "metadata": {},
   "outputs": [
    {
     "data": {
      "text/plain": [
       "'/home/fcavallin/ondewo'"
      ]
     },
     "execution_count": 2,
     "metadata": {},
     "output_type": "execute_result"
    }
   ],
   "source": [
    "os.getcwd()"
   ]
  },
  {
   "cell_type": "code",
   "execution_count": 3,
   "metadata": {},
   "outputs": [],
   "source": [
    "import io\n",
    "import soundfile as sf\n",
    "import IPython.display as ipd\n",
    "import grpc\n",
    "from ondewo_grpc.ondewo.t2s import text_to_speech_pb2, text_to_speech_pb2_grpc\n",
    "import google.protobuf.empty_pb2 as empty_pb2\n",
    "from google.protobuf.json_format import ParseDict, MessageToDict, MessageToJson"
   ]
  },
  {
   "cell_type": "markdown",
   "metadata": {},
   "source": [
    "### Set up the parameters of the grpc server. The example below is for the case when server is running locally"
   ]
  },
  {
   "cell_type": "code",
   "execution_count": 4,
   "metadata": {},
   "outputs": [],
   "source": [
    "MAX_MESSAGE_LENGTH: int = 60000000\n",
    "GRPC_HOST: str = \"localhost\"\n",
    "GRPC_PORT: str = \"50555\"\n",
    "CHANNEL: str = f\"{GRPC_HOST}:{GRPC_PORT}\"\n",
    "\n",
    "options = [\n",
    "    ('grpc.max_send_message_length', MAX_MESSAGE_LENGTH),\n",
    "    ('grpc.max_receive_message_length', MAX_MESSAGE_LENGTH),\n",
    "]\n",
    "\n",
    "\n",
    "channel = grpc.insecure_channel(CHANNEL, options=options)\n",
    "stab = text_to_speech_pb2_grpc.Text2SpeechStub(channel=channel)"
   ]
  },
  {
   "cell_type": "markdown",
   "metadata": {},
   "source": [
    "### List all t2s pipelines present on the server"
   ]
  },
  {
   "cell_type": "code",
   "execution_count": 5,
   "metadata": {},
   "outputs": [],
   "source": [
    "pipelines = stab.ListT2sPipelines(request=empty_pb2.Empty()).pipelines"
   ]
  },
  {
   "cell_type": "markdown",
   "metadata": {},
   "source": [
    "### Select pipelines for specific language language"
   ]
  },
  {
   "cell_type": "code",
   "execution_count": 6,
   "metadata": {},
   "outputs": [],
   "source": [
    "def find_pipeline_for_language(pipelines, language):\n",
    "    for pipeline in pipelines:\n",
    "        if pipeline.description.language == language:\n",
    "            return pipeline"
   ]
  },
  {
   "cell_type": "code",
   "execution_count": 7,
   "metadata": {},
   "outputs": [],
   "source": [
    "english_pipeline = find_pipeline_for_language(pipelines=pipelines, language='en')\n",
    "german_pipeline = find_pipeline_for_language(pipelines=pipelines, language='de')"
   ]
  },
  {
   "cell_type": "code",
   "execution_count": 8,
   "metadata": {},
   "outputs": [
    {
     "data": {
      "text/plain": [
       "[id: \"glow_tts&hifi_gan-e976dd6c-2f41-484b-aec2-3e6868d37290\"\n",
       "description {\n",
       "  language: \"de\"\n",
       "  speaker_sex: \"female\"\n",
       "  pipeline_owner: \"ondewo\"\n",
       "  comments: \"trained on public domain dataset\"\n",
       "  speaker_name: \"Kerstin\"\n",
       "  domain: \"general\"\n",
       "}\n",
       "active: true\n",
       "inference {\n",
       "  type: \"composite\"\n",
       "  composite_inference {\n",
       "    text2mel {\n",
       "      type: \"glow_tts\"\n",
       "      glow_tts {\n",
       "        batch_size: 5\n",
       "        length_scale: 1.0\n",
       "        noise_scale: 0.6669999957084656\n",
       "        path: \"models/glow-tts/de/kerstin_blank.pth\"\n",
       "        param_config_path: \"models/glow-tts/de/config_blank.json\"\n",
       "      }\n",
       "      glow_tts_triton {\n",
       "        batch_size: 8\n",
       "        length_scale: 1.0\n",
       "        noise_scale: 0.6669999957084656\n",
       "        max_text_length: 100\n",
       "        param_config_path: \"models/glow-tts/de/config_blank.json\"\n",
       "        triton_url: \"localhost:50511\"\n",
       "        triton_model_name: \"glow_tts\"\n",
       "      }\n",
       "    }\n",
       "    mel2audio {\n",
       "      type: \"hifi_gan\"\n",
       "      mb_melgan_triton {\n",
       "        config_path: \"models/mb_melgan/en/config.yml\"\n",
       "        stats_path: \"models/mb_melgan/en/stats.npy\"\n",
       "        triton_model_name: \"mb_melgan\"\n",
       "        triton_url: \"localhost:50511\"\n",
       "      }\n",
       "      hifi_gan {\n",
       "        batch_size: 20\n",
       "        config_path: \"models/HiFiGan/universal/config.json\"\n",
       "        model_path: \"models/HiFiGan/universal/g_02500000\"\n",
       "      }\n",
       "      hifi_gan_triton {\n",
       "        config_path: \"models/HiFiGan/universal/config.json\"\n",
       "        triton_model_name: \"hifi_tts\"\n",
       "        triton_url: \"localhost:50511\"\n",
       "      }\n",
       "    }\n",
       "  }\n",
       "  caching {\n",
       "    memory_cache_max_size: 20\n",
       "    sampling_rate: 22050\n",
       "    load_cache: true\n",
       "    save_cache: true\n",
       "    cache_save_dir: \"models/cache\"\n",
       "  }\n",
       "}\n",
       "normalization {\n",
       "  language: \"de\"\n",
       "  pipeline: \"fix_plus\"\n",
       "  pipeline: \"normalize_urls\"\n",
       "  pipeline: \"normalize_dates\"\n",
       "  pipeline: \"normalize_year\"\n",
       "  pipeline: \"normalize_time\"\n",
       "  pipeline: \"normalize_numbers\"\n",
       "  pipeline: \"remove_unaudible_texts\"\n",
       "  pipeline: \"lower_case\"\n",
       "}\n",
       "postprocessing {\n",
       "  silence_secs: 0.25\n",
       "  logmmse {\n",
       "    initial_noise: 100\n",
       "    noise_threshold: 0.15000000596046448\n",
       "  }\n",
       "  wiener {\n",
       "    frame_len: 1024\n",
       "    lpc_order: 50\n",
       "    iterations: 10\n",
       "    alpha: 0.5\n",
       "    thresh: 0.10000000149011612\n",
       "  }\n",
       "  apodization {\n",
       "    apodization_secs: 0.25\n",
       "  }\n",
       "}\n",
       ", id: \"glow_tts&hifi_gan-0118e07a-8447-4c87-9f6b-4802a7dd7a07\"\n",
       "description {\n",
       "  language: \"en\"\n",
       "  speaker_sex: \"female\"\n",
       "  pipeline_owner: \"ondewo\"\n",
       "  comments: \"trained on public domain dataset Lj_speech\"\n",
       "  speaker_name: \"Linda\"\n",
       "  domain: \"general\"\n",
       "}\n",
       "active: true\n",
       "inference {\n",
       "  type: \"composite\"\n",
       "  composite_inference {\n",
       "    text2mel {\n",
       "      type: \"glow_tts\"\n",
       "      glow_tts {\n",
       "        batch_size: 5\n",
       "        length_scale: 1.0\n",
       "        noise_scale: 0.6669999957084656\n",
       "        path: \"models/glow-tts/en/pretrained.pth\"\n",
       "        param_config_path: \"models/glow-tts/en/config.json\"\n",
       "      }\n",
       "      glow_tts_triton {\n",
       "        batch_size: 8\n",
       "        length_scale: 1.0\n",
       "        noise_scale: 0.6669999957084656\n",
       "        max_text_length: 100\n",
       "        param_config_path: \"models/glow-tts/en/config.json\"\n",
       "        triton_url: \"localhost:50511\"\n",
       "        triton_model_name: \"glow_tts\"\n",
       "      }\n",
       "    }\n",
       "    mel2audio {\n",
       "      type: \"hifi_gan\"\n",
       "      mb_melgan_triton {\n",
       "        config_path: \"models/mb_melgan/en/config.yml\"\n",
       "        stats_path: \"models/mb_melgan/en/stats.npy\"\n",
       "        triton_model_name: \"mb_melgan\"\n",
       "        triton_url: \"localhost:50511\"\n",
       "      }\n",
       "      hifi_gan {\n",
       "        batch_size: 20\n",
       "        config_path: \"models/HiFiGan/universal/config.json\"\n",
       "        model_path: \"models/HiFiGan/universal/g_02500000\"\n",
       "      }\n",
       "      hifi_gan_triton {\n",
       "        config_path: \"models/HiFiGan/universal/config.json\"\n",
       "        triton_model_name: \"hifi_tts\"\n",
       "        triton_url: \"localhost:50511\"\n",
       "      }\n",
       "    }\n",
       "  }\n",
       "  caching {\n",
       "    memory_cache_max_size: 20\n",
       "    sampling_rate: 22050\n",
       "    load_cache: true\n",
       "    save_cache: true\n",
       "    cache_save_dir: \"models/cache\"\n",
       "  }\n",
       "}\n",
       "normalization {\n",
       "  language: \"en\"\n",
       "}\n",
       "postprocessing {\n",
       "  silence_secs: 0.25\n",
       "  logmmse {\n",
       "    initial_noise: 100\n",
       "    noise_threshold: 0.15000000596046448\n",
       "  }\n",
       "  wiener {\n",
       "    frame_len: 1024\n",
       "    lpc_order: 50\n",
       "    iterations: 10\n",
       "    alpha: 0.5\n",
       "    thresh: 0.10000000149011612\n",
       "  }\n",
       "  apodization {\n",
       "    apodization_secs: 0.25\n",
       "  }\n",
       "}\n",
       "]"
      ]
     },
     "execution_count": 8,
     "metadata": {},
     "output_type": "execute_result"
    }
   ],
   "source": [
    "pipelines"
   ]
  },
  {
   "cell_type": "markdown",
   "metadata": {},
   "source": [
    "### Make synthesize request to the server to get audio for given text"
   ]
  },
  {
   "cell_type": "markdown",
   "metadata": {},
   "source": [
    "Configuration message:\n",
    "    - t2s_pipeline_id: Its required and represents the pipeline id of the model configuration that will be used.\n",
    "    - length_scale: Its optional and it changes the speed or duration of an audio.\n",
    "    - noise_scale: Its optional and defines the noise in the generated audio.\n",
    "    - sample_rate: Its optional and defines the sample rate of the generated file.\n",
    "    - pcm: Its optional and defines the pulse-code modulation of the file (The number of times per second that samples are taken)."
   ]
  },
  {
   "cell_type": "code",
   "execution_count": 9,
   "metadata": {},
   "outputs": [],
   "source": [
    "def print_single_info(single_response):\n",
    "        print(f\"Info:\")\n",
    "        print(f\"audio_uuid: {single_response.audio_uuid}\")\n",
    "        print(f\"generation_time: {single_response.generation_time}\")\n",
    "        print(f\"audio_length: {single_response.audio_length}\")\n",
    "        print(f\"text: {single_response.text}\")\n",
    "        print(f\"config: {single_response.config}\")\n",
    "        bio = io.BytesIO(single_response.audio)\n",
    "        audio = sf.read(bio, )\n",
    "        ipd.Audio(audio[0], rate=audio[1])\n",
    "\n",
    "def print_batch_info(response):\n",
    "    for idx, single_response in enumerate(response.batch_response):\n",
    "        print(f\"AUDIO {idx}\")\n",
    "        print_single_info(single_response)"
   ]
  },
  {
   "cell_type": "code",
   "execution_count": 10,
   "metadata": {},
   "outputs": [
    {
     "name": "stdout",
     "output_type": "stream",
     "text": [
      "Info:\n",
      "audio_uuid: 89f7fde9-27fa-46a7-9f00-39a2bfe19782\n",
      "generation_time: 1.0377438068389893\n",
      "audio_length: 2.240725517272949\n",
      "text: Hallo, wie geht es dir?\n",
      "config: t2s_pipeline_id: \"glow_tts&hifi_gan-e976dd6c-2f41-484b-aec2-3e6868d37290\"\n",
      "length_scale: 1.0\n",
      "noise_scale: 0.6669999957084656\n",
      "sample_rate: 22050\n",
      "pcm: PCM_32\n",
      "audio_format: mp3\n",
      "\n"
     ]
    }
   ],
   "source": [
    "config = text_to_speech_pb2.RequestConfig(t2s_pipeline_id=german_pipeline.id, length_scale = 1.0, pcm=2, audio_format= 3)\n",
    "request = text_to_speech_pb2.SynthesizeRequest(text='Hallo, wie geht es dir?', config=config)\n",
    "response = stab.Synthesize(request=request)\n",
    "\n",
    "print_single_info(response)"
   ]
  },
  {
   "cell_type": "markdown",
   "metadata": {},
   "source": [
    "### Adding length scale parameter to make speech faster or slower"
   ]
  },
  {
   "cell_type": "code",
   "execution_count": 11,
   "metadata": {},
   "outputs": [
    {
     "name": "stdout",
     "output_type": "stream",
     "text": [
      "Info:\n",
      "audio_uuid: 6877c4da-f44b-4d08-8691-0aa0aa0cd99f\n",
      "generation_time: 0.31995001435279846\n",
      "audio_length: 0.5921088457107544\n",
      "text: Hi, how are you?\n",
      "config: t2s_pipeline_id: \"glow_tts&hifi_gan-0118e07a-8447-4c87-9f6b-4802a7dd7a07\"\n",
      "length_scale: 0.5\n",
      "noise_scale: 0.6669999957084656\n",
      "sample_rate: 22050\n",
      "pcm: PCM_16\n",
      "audio_format: wav\n",
      "\n"
     ]
    }
   ],
   "source": [
    "config = text_to_speech_pb2.RequestConfig(t2s_pipeline_id=english_pipeline.id, length_scale=0.5)\n",
    "request = text_to_speech_pb2.SynthesizeRequest(text='Hi, how are you?', config = config)\n",
    "response = stab.Synthesize(request=request)\n",
    "\n",
    "print_single_info(response)"
   ]
  },
  {
   "cell_type": "markdown",
   "metadata": {},
   "source": [
    "### Make synthesize request to the server to get audios for a Batch of given texts with same configuration"
   ]
  },
  {
   "cell_type": "code",
   "execution_count": 12,
   "metadata": {},
   "outputs": [
    {
     "name": "stdout",
     "output_type": "stream",
     "text": [
      "AUDIO 0\n",
      "Info:\n",
      "audio_uuid: 8ee544dd-6e8d-4995-92de-3c2f0ad68b55\n",
      "generation_time: 0.3141922056674957\n",
      "audio_length: 0.5456689596176147\n",
      "text: Hello\n",
      "config: t2s_pipeline_id: \"glow_tts&hifi_gan-0118e07a-8447-4c87-9f6b-4802a7dd7a07\"\n",
      "length_scale: 1.0\n",
      "noise_scale: 0.6669999957084656\n",
      "sample_rate: 22050\n",
      "pcm: PCM_16\n",
      "audio_format: wav\n",
      "\n",
      "AUDIO 1\n",
      "Info:\n",
      "audio_uuid: 393851c7-bf2f-4313-8dc7-35be4d12290b\n",
      "generation_time: 0.3378311097621918\n",
      "audio_length: 0.7314285635948181\n",
      "text: How are you?\n",
      "config: t2s_pipeline_id: \"glow_tts&hifi_gan-0118e07a-8447-4c87-9f6b-4802a7dd7a07\"\n",
      "length_scale: 1.0\n",
      "noise_scale: 0.6669999957084656\n",
      "sample_rate: 22050\n",
      "pcm: PCM_16\n",
      "audio_format: wav\n",
      "\n"
     ]
    }
   ],
   "source": [
    "config_1 = text_to_speech_pb2.RequestConfig(t2s_pipeline_id=english_pipeline.id, length_scale = 1.0, pcm=0, audio_format= 0)\n",
    "\n",
    "request_1 = text_to_speech_pb2.SynthesizeRequest(text='Hello', config=config_1)\n",
    "request_2 = text_to_speech_pb2.SynthesizeRequest(text='How are you?', config=config_1)\n",
    "\n",
    "request = text_to_speech_pb2.BatchSynthesizeRequest(batch_request = [request_1, request_2])\n",
    "\n",
    "response = stab.BatchSynthesize(request = request)\n",
    "\n",
    "print_batch_info(response)"
   ]
  },
  {
   "cell_type": "markdown",
   "metadata": {},
   "source": [
    "### Make synthesize request to the server to get audios for a Batch of given texts with different configurations"
   ]
  },
  {
   "cell_type": "code",
   "execution_count": 13,
   "metadata": {},
   "outputs": [],
   "source": [
    "config_1 = text_to_speech_pb2.RequestConfig(t2s_pipeline_id=english_pipeline.id, length_scale = 1.0, pcm=0, audio_format= 0)\n",
    "config_2 = text_to_speech_pb2.RequestConfig(t2s_pipeline_id=english_pipeline.id, length_scale = 0.5, pcm=0, audio_format= 1)\n",
    "config_3 = text_to_speech_pb2.RequestConfig(t2s_pipeline_id=german_pipeline.id, length_scale = 1.0, pcm=1, audio_format= 0)\n",
    "\n",
    "request_1 = text_to_speech_pb2.SynthesizeRequest(text='Hello', config=config_1)\n",
    "request_2 = text_to_speech_pb2.SynthesizeRequest(text='How are you?', config=config_2)\n",
    "request_3 = text_to_speech_pb2.SynthesizeRequest(text='Hallo, wie geht es dir?', config=config_3)\n",
    "\n",
    "request = text_to_speech_pb2.BatchSynthesizeRequest(batch_request = [request_1, request_2, request_3])\n",
    "\n",
    "response = stab.BatchSynthesize(request = request)"
   ]
  },
  {
   "cell_type": "code",
   "execution_count": 14,
   "metadata": {},
   "outputs": [
    {
     "name": "stdout",
     "output_type": "stream",
     "text": [
      "AUDIO 0\n",
      "Info:\n",
      "audio_uuid: 5bb457c3-6289-4975-93f7-82875053452f\n",
      "generation_time: 0.272760272026062\n",
      "audio_length: 0.5456689596176147\n",
      "text: Hello\n",
      "config: t2s_pipeline_id: \"glow_tts&hifi_gan-0118e07a-8447-4c87-9f6b-4802a7dd7a07\"\n",
      "length_scale: 1.0\n",
      "noise_scale: 0.6669999957084656\n",
      "sample_rate: 22050\n",
      "pcm: PCM_16\n",
      "audio_format: wav\n",
      "\n",
      "AUDIO 1\n",
      "Info:\n",
      "audio_uuid: caaf533c-7e9f-459e-820b-80b97c70dbb9\n",
      "generation_time: 0.21691066026687622\n",
      "audio_length: 0.40634921193122864\n",
      "text: How are you?\n",
      "config: t2s_pipeline_id: \"glow_tts&hifi_gan-0118e07a-8447-4c87-9f6b-4802a7dd7a07\"\n",
      "length_scale: 0.5\n",
      "noise_scale: 0.6669999957084656\n",
      "sample_rate: 22050\n",
      "pcm: PCM_16\n",
      "audio_format: flac\n",
      "\n",
      "AUDIO 2\n",
      "Info:\n",
      "audio_uuid: d856b027-0230-42df-8d8a-2663b3f00213\n",
      "generation_time: 1.044538974761963\n",
      "audio_length: 2.240725517272949\n",
      "text: Hallo, wie geht es dir?\n",
      "config: t2s_pipeline_id: \"glow_tts&hifi_gan-e976dd6c-2f41-484b-aec2-3e6868d37290\"\n",
      "length_scale: 1.0\n",
      "noise_scale: 0.6669999957084656\n",
      "sample_rate: 22050\n",
      "pcm: PCM_24\n",
      "audio_format: wav\n",
      "\n"
     ]
    }
   ],
   "source": [
    "print_batch_info(response)\n",
    "           \n"
   ]
  },
  {
   "cell_type": "markdown",
   "metadata": {},
   "source": [
    "### Get pipeline you want to update"
   ]
  },
  {
   "cell_type": "code",
   "execution_count": 15,
   "metadata": {},
   "outputs": [],
   "source": [
    "request = text_to_speech_pb2.T2sPipelineId(id=english_pipeline.id)\n",
    "pipeline_config = stab.GetT2sPipeline(request=request)"
   ]
  },
  {
   "cell_type": "code",
   "execution_count": 16,
   "metadata": {},
   "outputs": [
    {
     "data": {
      "text/plain": [
       "id: \"glow_tts&hifi_gan-0118e07a-8447-4c87-9f6b-4802a7dd7a07\"\n",
       "description {\n",
       "  language: \"en\"\n",
       "  speaker_sex: \"female\"\n",
       "  pipeline_owner: \"ondewo\"\n",
       "  comments: \"trained on public domain dataset Lj_speech\"\n",
       "  speaker_name: \"Linda\"\n",
       "  domain: \"general\"\n",
       "}\n",
       "active: true\n",
       "inference {\n",
       "  type: \"composite\"\n",
       "  composite_inference {\n",
       "    text2mel {\n",
       "      type: \"glow_tts\"\n",
       "      glow_tts {\n",
       "        batch_size: 5\n",
       "        length_scale: 1.0\n",
       "        noise_scale: 0.6669999957084656\n",
       "        path: \"models/glow-tts/en/pretrained.pth\"\n",
       "        param_config_path: \"models/glow-tts/en/config.json\"\n",
       "      }\n",
       "      glow_tts_triton {\n",
       "        batch_size: 8\n",
       "        length_scale: 1.0\n",
       "        noise_scale: 0.6669999957084656\n",
       "        max_text_length: 100\n",
       "        param_config_path: \"models/glow-tts/en/config.json\"\n",
       "        triton_url: \"localhost:50511\"\n",
       "        triton_model_name: \"glow_tts\"\n",
       "      }\n",
       "    }\n",
       "    mel2audio {\n",
       "      type: \"hifi_gan\"\n",
       "      mb_melgan_triton {\n",
       "        config_path: \"models/mb_melgan/en/config.yml\"\n",
       "        stats_path: \"models/mb_melgan/en/stats.npy\"\n",
       "        triton_model_name: \"mb_melgan\"\n",
       "        triton_url: \"localhost:50511\"\n",
       "      }\n",
       "      hifi_gan {\n",
       "        batch_size: 20\n",
       "        config_path: \"models/HiFiGan/universal/config.json\"\n",
       "        model_path: \"models/HiFiGan/universal/g_02500000\"\n",
       "      }\n",
       "      hifi_gan_triton {\n",
       "        config_path: \"models/HiFiGan/universal/config.json\"\n",
       "        triton_model_name: \"hifi_tts\"\n",
       "        triton_url: \"localhost:50511\"\n",
       "      }\n",
       "    }\n",
       "  }\n",
       "  caching {\n",
       "    memory_cache_max_size: 20\n",
       "    sampling_rate: 22050\n",
       "    load_cache: true\n",
       "    save_cache: true\n",
       "    cache_save_dir: \"models/cache\"\n",
       "  }\n",
       "}\n",
       "normalization {\n",
       "  language: \"en\"\n",
       "}\n",
       "postprocessing {\n",
       "  silence_secs: 0.25\n",
       "  logmmse {\n",
       "    initial_noise: 100\n",
       "    noise_threshold: 0.15000000596046448\n",
       "  }\n",
       "  wiener {\n",
       "    frame_len: 1024\n",
       "    lpc_order: 50\n",
       "    iterations: 10\n",
       "    alpha: 0.5\n",
       "    thresh: 0.10000000149011612\n",
       "  }\n",
       "  apodization {\n",
       "    apodization_secs: 0.25\n",
       "  }\n",
       "}"
      ]
     },
     "execution_count": 16,
     "metadata": {},
     "output_type": "execute_result"
    }
   ],
   "source": [
    "pipeline_config"
   ]
  },
  {
   "cell_type": "markdown",
   "metadata": {},
   "source": [
    "### Change parameter in the pipeline config. For example default length scale"
   ]
  },
  {
   "cell_type": "code",
   "execution_count": 17,
   "metadata": {},
   "outputs": [],
   "source": [
    "pipeline_config.inference.composite_inference.text2mel.glow_tts.length_scale = 2"
   ]
  },
  {
   "cell_type": "markdown",
   "metadata": {},
   "source": [
    "### Update pipeline"
   ]
  },
  {
   "cell_type": "code",
   "execution_count": 18,
   "metadata": {},
   "outputs": [
    {
     "data": {
      "text/plain": []
     },
     "execution_count": 18,
     "metadata": {},
     "output_type": "execute_result"
    }
   ],
   "source": [
    "stab.UpdateT2sPipeline(request=pipeline_config)"
   ]
  },
  {
   "cell_type": "markdown",
   "metadata": {},
   "source": [
    "### See if generated audio change according to updated config"
   ]
  },
  {
   "cell_type": "code",
   "execution_count": 19,
   "metadata": {},
   "outputs": [
    {
     "name": "stdout",
     "output_type": "stream",
     "text": [
      "Info:\n",
      "audio_uuid: 6018907a-6c32-44a9-a475-0a08568c755f\n",
      "generation_time: 0.8458008170127869\n",
      "audio_length: 1.9620862007141113\n",
      "text: Hi, how are you?\n",
      "config: t2s_pipeline_id: \"glow_tts&hifi_gan-0118e07a-8447-4c87-9f6b-4802a7dd7a07\"\n",
      "length_scale: 2.0\n",
      "noise_scale: 0.6669999957084656\n",
      "sample_rate: 22050\n",
      "pcm: PCM_16\n",
      "audio_format: wav\n",
      "\n"
     ]
    }
   ],
   "source": [
    "config = text_to_speech_pb2.RequestConfig(t2s_pipeline_id= english_pipeline.id)\n",
    "request = text_to_speech_pb2.SynthesizeRequest(text='Hi, how are you?', config = config)\n",
    "response = stab.Synthesize(request=request)\n",
    "\n",
    "print_single_info(response)"
   ]
  },
  {
   "cell_type": "markdown",
   "metadata": {},
   "source": [
    "### Change parameter back to previous (length_scale = 1.0)"
   ]
  },
  {
   "cell_type": "code",
   "execution_count": 20,
   "metadata": {},
   "outputs": [
    {
     "name": "stdout",
     "output_type": "stream",
     "text": [
      "Info:\n",
      "audio_uuid: 6018907a-6c32-44a9-a475-0a08568c755f\n",
      "generation_time: 0.8458008170127869\n",
      "audio_length: 1.9620862007141113\n",
      "text: Hi, how are you?\n",
      "config: t2s_pipeline_id: \"glow_tts&hifi_gan-0118e07a-8447-4c87-9f6b-4802a7dd7a07\"\n",
      "length_scale: 2.0\n",
      "noise_scale: 0.6669999957084656\n",
      "sample_rate: 22050\n",
      "pcm: PCM_16\n",
      "audio_format: wav\n",
      "\n"
     ]
    }
   ],
   "source": [
    "request = text_to_speech_pb2.T2sPipelineId(id=english_pipeline.id)\n",
    "pipeline_config = stab.GetT2sPipeline(request=request)\n",
    "pipeline_config.inference.composite_inference.text2mel.glow_tts.length_scale = 1.0\n",
    "stab.UpdateT2sPipeline(request=pipeline_config)\n",
    "\n",
    "print_single_info(response)"
   ]
  },
  {
   "cell_type": "code",
   "execution_count": null,
   "metadata": {},
   "outputs": [],
   "source": []
  }
 ],
 "metadata": {
  "kernelspec": {
   "display_name": "Python 3 (ipykernel)",
   "language": "python",
   "name": "python3"
  },
  "language_info": {
   "codemirror_mode": {
    "name": "ipython",
    "version": 3
   },
   "file_extension": ".py",
   "mimetype": "text/x-python",
   "name": "python",
   "nbconvert_exporter": "python",
   "pygments_lexer": "ipython3",
   "version": "3.8.12"
  }
 },
 "nbformat": 4,
 "nbformat_minor": 4
}
